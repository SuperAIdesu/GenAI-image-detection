{
 "cells": [
  {
   "cell_type": "code",
   "execution_count": 19,
   "metadata": {},
   "outputs": [],
   "source": [
    "import pandas as pd\n",
    "import numpy as np\n",
    "import polars as pl\n",
    "import matplotlib.pyplot as plt\n",
    "import seaborn as sns\n",
    "from sklearn.metrics import roc_auc_score, accuracy_score, precision_score, recall_score, f1_score, RocCurveDisplay\n",
    "\n",
    "sns.set()"
   ]
  },
  {
   "cell_type": "code",
   "execution_count": 2,
   "metadata": {},
   "outputs": [],
   "source": [
    "def pfbeta(labels, predictions, beta=1):\n",
    "    y_true_count = 0\n",
    "    ctp = 0\n",
    "    cfp = 0\n",
    "\n",
    "    for idx in range(len(labels)):\n",
    "        prediction = min(max(predictions[idx], 0), 1)\n",
    "        if (labels[idx]):\n",
    "            y_true_count += 1\n",
    "            ctp += prediction\n",
    "        else:\n",
    "            cfp += prediction\n",
    "\n",
    "    beta_squared = beta * beta\n",
    "    c_precision = ctp / (ctp + cfp)\n",
    "    c_recall = ctp / y_true_count\n",
    "    if (c_precision > 0 and c_recall > 0):\n",
    "        result = (1 + beta_squared) * (c_precision * c_recall) / (beta_squared * c_precision + c_recall)\n",
    "        return result\n",
    "    else:\n",
    "        return 0"
   ]
  },
  {
   "cell_type": "code",
   "execution_count": 23,
   "metadata": {},
   "outputs": [],
   "source": [
    "def get_part_metrics(df: pl.DataFrame, threshold=0.2) -> dict:\n",
    "    df = df.with_columns((df[\"preds\"] > threshold).alias(\"preds_bin\"))\n",
    "    metrics = {}\n",
    "    # binary metrics using the threshold\n",
    "    metrics[\"accuracy\"] = accuracy_score(df[\"labels\"].to_numpy(), df[\"preds_bin\"].to_numpy())\n",
    "    metrics[\"precision\"] = precision_score(df[\"labels\"].to_numpy(), df[\"preds_bin\"].to_numpy())\n",
    "    metrics[\"recall\"] = recall_score(df[\"labels\"].to_numpy(), df[\"preds_bin\"].to_numpy())\n",
    "    metrics[\"f1\"] = f1_score(df[\"labels\"].to_numpy(), df[\"preds_bin\"].to_numpy())\n",
    "    # probabilistic F1 (doesn't depend on the threshold)\n",
    "    metrics[\"pf1\"] = pfbeta(df[\"labels\"].to_numpy(), df[\"preds\"].to_numpy())\n",
    "    # ROC AUC\n",
    "    metrics[\"roc_auc\"] = roc_auc_score(df[\"labels\"].to_numpy(), df[\"preds\"].to_numpy())\n",
    "    return metrics\n",
    "\n",
    "\n",
    "def get_all_metrics(df: pl.DataFrame) -> pd.DataFrame:\n",
    "    groups = [list(range(5)), [0, 1], [0, 4], [0, 2], [0, 3]]\n",
    "    group_names = [\"all\", \"StableDiffusion\", \"Midjourney\", \"Dalle2\", \"Dalle3\"]\n",
    "    all_metrics = []\n",
    "    for i, g in enumerate(groups):\n",
    "        subset = df.filter(pl.col(\"domains\").is_in(g))\n",
    "        metrics = get_part_metrics(subset)\n",
    "        metrics[\"group\"] = group_names[i]\n",
    "        all_metrics.append(metrics)\n",
    "    \n",
    "    return pd.DataFrame(all_metrics)"
   ]
  },
  {
   "cell_type": "code",
   "execution_count": 3,
   "metadata": {},
   "outputs": [],
   "source": [
    "df = pl.read_csv(\"outputs/preds-image-classifier-epoch=08-val_loss=0.17.ckpt.csv\")"
   ]
  },
  {
   "cell_type": "code",
   "execution_count": 24,
   "metadata": {},
   "outputs": [],
   "source": [
    "metrics_df = get_all_metrics(df)"
   ]
  },
  {
   "cell_type": "code",
   "execution_count": 25,
   "metadata": {},
   "outputs": [
    {
     "data": {
      "text/html": [
       "<div>\n",
       "<style scoped>\n",
       "    .dataframe tbody tr th:only-of-type {\n",
       "        vertical-align: middle;\n",
       "    }\n",
       "\n",
       "    .dataframe tbody tr th {\n",
       "        vertical-align: top;\n",
       "    }\n",
       "\n",
       "    .dataframe thead th {\n",
       "        text-align: right;\n",
       "    }\n",
       "</style>\n",
       "<table border=\"1\" class=\"dataframe\">\n",
       "  <thead>\n",
       "    <tr style=\"text-align: right;\">\n",
       "      <th></th>\n",
       "      <th>accuracy</th>\n",
       "      <th>precision</th>\n",
       "      <th>recall</th>\n",
       "      <th>f1</th>\n",
       "      <th>pf1</th>\n",
       "      <th>roc_auc</th>\n",
       "      <th>group</th>\n",
       "    </tr>\n",
       "  </thead>\n",
       "  <tbody>\n",
       "    <tr>\n",
       "      <th>0</th>\n",
       "      <td>0.903506</td>\n",
       "      <td>0.940461</td>\n",
       "      <td>0.791812</td>\n",
       "      <td>0.859759</td>\n",
       "      <td>0.736479</td>\n",
       "      <td>0.976501</td>\n",
       "      <td>all</td>\n",
       "    </tr>\n",
       "    <tr>\n",
       "      <th>1</th>\n",
       "      <td>0.948827</td>\n",
       "      <td>0.842758</td>\n",
       "      <td>0.837563</td>\n",
       "      <td>0.840153</td>\n",
       "      <td>0.758147</td>\n",
       "      <td>0.981971</td>\n",
       "      <td>StableDiffusion</td>\n",
       "    </tr>\n",
       "    <tr>\n",
       "      <th>2</th>\n",
       "      <td>0.949930</td>\n",
       "      <td>0.837051</td>\n",
       "      <td>0.839590</td>\n",
       "      <td>0.838319</td>\n",
       "      <td>0.744099</td>\n",
       "      <td>0.981570</td>\n",
       "      <td>Midjourney</td>\n",
       "    </tr>\n",
       "    <tr>\n",
       "      <th>3</th>\n",
       "      <td>0.941308</td>\n",
       "      <td>0.733127</td>\n",
       "      <td>0.696881</td>\n",
       "      <td>0.714544</td>\n",
       "      <td>0.552597</td>\n",
       "      <td>0.966459</td>\n",
       "      <td>Dalle2</td>\n",
       "    </tr>\n",
       "    <tr>\n",
       "      <th>4</th>\n",
       "      <td>0.947560</td>\n",
       "      <td>0.718485</td>\n",
       "      <td>0.731383</td>\n",
       "      <td>0.724876</td>\n",
       "      <td>0.601624</td>\n",
       "      <td>0.968926</td>\n",
       "      <td>Dalle3</td>\n",
       "    </tr>\n",
       "  </tbody>\n",
       "</table>\n",
       "</div>"
      ],
      "text/plain": [
       "   accuracy  precision    recall        f1       pf1   roc_auc  \\\n",
       "0  0.903506   0.940461  0.791812  0.859759  0.736479  0.976501   \n",
       "1  0.948827   0.842758  0.837563  0.840153  0.758147  0.981971   \n",
       "2  0.949930   0.837051  0.839590  0.838319  0.744099  0.981570   \n",
       "3  0.941308   0.733127  0.696881  0.714544  0.552597  0.966459   \n",
       "4  0.947560   0.718485  0.731383  0.724876  0.601624  0.968926   \n",
       "\n",
       "             group  \n",
       "0              all  \n",
       "1  StableDiffusion  \n",
       "2       Midjourney  \n",
       "3           Dalle2  \n",
       "4           Dalle3  "
      ]
     },
     "execution_count": 25,
     "metadata": {},
     "output_type": "execute_result"
    }
   ],
   "source": [
    "metrics_df"
   ]
  },
  {
   "cell_type": "code",
   "execution_count": null,
   "metadata": {},
   "outputs": [],
   "source": []
  }
 ],
 "metadata": {
  "kernelspec": {
   "display_name": "GenAI-image-detection-Z_9oJJe7",
   "language": "python",
   "name": "python3"
  },
  "language_info": {
   "codemirror_mode": {
    "name": "ipython",
    "version": 3
   },
   "file_extension": ".py",
   "mimetype": "text/x-python",
   "name": "python",
   "nbconvert_exporter": "python",
   "pygments_lexer": "ipython3",
   "version": "3.11.6"
  }
 },
 "nbformat": 4,
 "nbformat_minor": 2
}
